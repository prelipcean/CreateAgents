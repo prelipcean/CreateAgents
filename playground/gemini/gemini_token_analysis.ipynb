{
 "cells": [
  {
   "cell_type": "code",
   "execution_count": 2,
   "id": "d98245b7",
   "metadata": {},
   "outputs": [
    {
     "name": "stdout",
     "output_type": "stream",
     "text": [
      "The sentence \"The quick brown fox jumps over the lazy dog!\" can be tokenized in several ways depending on the level of detail and the intended application.  Here are a couple of options:\n",
      "\n",
      "**Option 1:  Simple Tokenization (whitespace-based)**\n",
      "\n",
      "This approach splits the sentence at whitespace characters.  It's simple but doesn't handle punctuation well.\n",
      "\n",
      "```python\n",
      "tokens = [\"The\", \"quick\", \"brown\", \"fox\", \"jumps\", \"over\", \"the\", \"lazy\", \"dog!\"]\n",
      "```\n",
      "\n",
      "**Option 2:  More Robust Tokenization (handling punctuation)**\n",
      "\n",
      "This option separates punctuation from words, providing a more refined tokenization.\n",
      "\n",
      "```python\n",
      "tokens = [\"The\", \"quick\", \"brown\", \"fox\", \"jumps\", \"over\", \"the\", \"lazy\", \"dog\", \"!\"]\n",
      "```\n",
      "\n",
      "**Option 3:  Advanced Tokenization (considering lemmatization or stemming)**\n",
      "\n",
      "For Natural Language Processing (NLP) tasks, you might go further and lemmatize or stem the words to reduce them to their root forms.  This isn't strictly tokenization, but is a common next step.  This requires using an NLP library like NLTK or spaCy.  The result would look something like this (lemmatization example, stemming would be slightly different):\n",
      "\n",
      "```python\n",
      "# Requires NLTK\n",
      "import nltk\n",
      "from nltk.stem import WordNetLemmatizer\n",
      "nltk.download('wordnet')\n",
      "nltk.download('omw-1.4')\n",
      "lemmatizer = WordNetLemmatizer()\n",
      "\n",
      "tokens = [\"The\", \"quick\", \"brown\", \"fox\", \"jump\", \"over\", \"the\", \"lazy\", \"dog\", \"!\"] # Lemmatized\n",
      "\n",
      "\n",
      "# Example of how lemmatization would be performed (for illustration only):\n",
      "\n",
      "# sentence = \"The quick brown fox jumps over the lazy dog!\"\n",
      "# words = sentence.split()\n",
      "# lemmatized_words = [lemmatizer.lemmatize(word.lower()) for word in words if word[-1].isalnum()] #handle punctuation in a smarter way\n",
      "# lemmatized_words = [word.title() if i == 0 else word for i, word in enumerate(lemmatized_words)]\n",
      "\n",
      "# print(lemmatized_words) # Output will be similar but dependent on the details of the lemmatization process\n",
      "\n",
      "```\n",
      "\n",
      "The best option depends on the task.  For simple text processing, Option 2 is often sufficient. For more advanced NLP tasks, Option 3 (or a similar approach) is necessary to obtain meaningful linguistic units.\n",
      "\n"
     ]
    }
   ],
   "source": [
    "import google.generativeai as genai\n",
    "import os\n",
    "from dotenv import load_dotenv\n",
    "\n",
    "# Load your Gemini API key from .env\n",
    "load_dotenv()\n",
    "api_key = os.getenv(\"GOOGLE_API_KEY\")\n",
    "genai.configure(api_key=api_key)\n",
    "\n",
    "\n",
    "def gemini_token_analysis(text):\n",
    "    prompt = (\n",
    "        f\"Analyze the following sentence and show how you would break it into tokens or meaningful units:\\n\\n{text}\\n\\n\"\n",
    "        \"List the tokens or units as a Python list.\"\n",
    "    )\n",
    "    model = genai.GenerativeModel(\"gemini-1.5-flash-latest\")\n",
    "    response = model.generate_content(prompt)\n",
    "    print(response.text)\n",
    "\n",
    "\n",
    "text = \"The quick brown fox jumps over the lazy dog!\"\n",
    "gemini_token_analysis(text)"
   ]
  }
 ],
 "metadata": {
  "kernelspec": {
   "display_name": ".venv",
   "language": "python",
   "name": "python3"
  },
  "language_info": {
   "codemirror_mode": {
    "name": "ipython",
    "version": 3
   },
   "file_extension": ".py",
   "mimetype": "text/x-python",
   "name": "python",
   "nbconvert_exporter": "python",
   "pygments_lexer": "ipython3",
   "version": "3.13.5"
  }
 },
 "nbformat": 4,
 "nbformat_minor": 5
}
