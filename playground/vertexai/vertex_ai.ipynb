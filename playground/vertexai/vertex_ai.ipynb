{
 "cells": [
  {
   "cell_type": "code",
   "execution_count": null,
   "id": "0a92db31",
   "metadata": {},
   "outputs": [],
   "source": [
    "# from enum import Enum\n",
    "# from langchain.output_parsers import EnumOutputParser\n",
    "from langchain_google_vertexai import ChatVertexAI\n",
    "import os\n",
    "from dotenv import load_dotenv  # Import load_dotenv\n",
    "from langchain import hub\n",
    "from langchain_core.output_parsers import StrOutputParser\n",
    "\n",
    "# Load environment variables from the .env file\n",
    "load_dotenv()\n",
    "\n",
    "# Access the environment variables\n",
    "# You can provide a default value as the second argument to .getenv()\n",
    "# in case the variable is not found in the .env file or system environment.\n",
    "GOOGLE_APPLICATION_CREDENTIALS_PATH = os.getenv(\"GOOGLE_APPLICATION_CREDENTIALS\")\n",
    "PROJECT_ID = os.getenv(\"GCP_PROJECT_ID\")\n",
    "LOCATION = os.getenv(\"GCP_LOCATION\")\n",
    "\n",
    "# Set the GOOGLE_APPLICATION_CREDENTIALS environment variable\n",
    "# This is crucial for ChatVertexAI to pick up the service account key.\n",
    "if GOOGLE_APPLICATION_CREDENTIALS_PATH:\n",
    "    os.environ[\"GOOGLE_APPLICATION_CREDENTIALS\"] = GOOGLE_APPLICATION_CREDENTIALS_PATH\n",
    "    print(\n",
    "        f\"GOOGLE_APPLICATION_CREDENTIALS set to: {GOOGLE_APPLICATION_CREDENTIALS_PATH}\"\n",
    "    )\n",
    "else:\n",
    "    print(\"Warning: GOOGLE_APPLICATION_CREDENTIALS not found in .env or environment.\")\n",
    "\n",
    "llm_small = ChatVertexAI(model_name=\"gemini-1.5-flash-001\")\n",
    "\n",
    "math_cot_prompt = hub.pull(\"arietem/math_cot\")\n",
    "cot_chain = math_cot_prompt | llm_small | StrOutputParser()\n",
    "print(cot_chain.invoke(\"Solve equation 2*x+5=15\"))"
   ]
  }
 ],
 "metadata": {
  "language_info": {
   "name": "python"
  }
 },
 "nbformat": 4,
 "nbformat_minor": 5
}
